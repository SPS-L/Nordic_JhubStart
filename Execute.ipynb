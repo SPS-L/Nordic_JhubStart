{
 "cells": [
  {
   "cell_type": "markdown",
   "id": "understood-screw",
   "metadata": {},
   "source": [
    "# PyRAMSES startup system\n",
    "\n",
    "Please check https://pyramses.netlify.app/ for the documentation."
   ]
  },
  {
   "cell_type": "code",
   "execution_count": 1,
   "id": "public-essence",
   "metadata": {},
   "outputs": [],
   "source": [
    "import pyramses"
   ]
  },
  {
   "cell_type": "markdown",
   "id": "conditional-tower",
   "metadata": {},
   "source": [
    "Prepare the case study (check https://pyramses.netlify.app/interface/case.html):"
   ]
  },
  {
   "cell_type": "code",
   "execution_count": 2,
   "id": "expanded-butterfly",
   "metadata": {},
   "outputs": [
    {
     "name": "stdout",
     "output_type": "stream",
     "text": [
      "RAMSESWarning: The file init.trace already exists. It will be overwritten!\n",
      "RAMSESWarning: The file cont.trace already exists. It will be overwritten!\n",
      "RAMSESWarning: The file disc.trace already exists. It will be overwritten!\n",
      "RAMSESWarning: The file cmd.txt already exists. It will be overwritten!\n"
     ]
    },
    {
     "data": {
      "text/plain": [
       "0"
      ]
     },
     "execution_count": 2,
     "metadata": {},
     "output_type": "execute_result"
    }
   ],
   "source": [
    "case = pyramses.cfg()\n",
    "case.addOut('output.trace') # save the simulation output\n",
    "case.addData('dyn_A.dat') # Dynamic data\n",
    "case.addData('volt_rat_A.dat') # power-flow data\n",
    "case.addData('settings1.dat') # solver settings\n",
    "case.addInit('init.trace') # save initialization procedure\n",
    "case.addDst('short_trip_branch.dst') # description of disturbance\n",
    "case.addCont('cont.trace') # save continuous trace\n",
    "case.addDisc('disc.trace') # save discrete trace\n",
    "case.addObs('obs.dat')\n",
    "case.addTrj('output.trj')\n",
    "case.writeCmdFile('cmd.txt') # Save configuration for future use"
   ]
  },
  {
   "cell_type": "markdown",
   "id": "concerned-praise",
   "metadata": {},
   "source": [
    "Start the simulator"
   ]
  },
  {
   "cell_type": "code",
   "execution_count": 3,
   "id": "radio-workplace",
   "metadata": {},
   "outputs": [
    {
     "name": "stdout",
     "output_type": "stream",
     "text": [
      "RAMSESWarning: RAMSES: Function c_load_MDL is listed in ramses.h but cannot be found in the library.\n",
      "/opt/tljh/user/lib/python3.7/site-packages/pyramses/libs/ramses.so: undefined symbol: c_load_MDL\n",
      "RAMSESWarning: RAMSES: Function c_unload_MDL is listed in ramses.h but cannot be found in the library.\n",
      "/opt/tljh/user/lib/python3.7/site-packages/pyramses/libs/ramses.so: undefined symbol: c_unload_MDL\n",
      "RAMSESWarning: RAMSES: Function c_get_MDL_no is listed in ramses.h but cannot be found in the library.\n",
      "/opt/tljh/user/lib/python3.7/site-packages/pyramses/libs/ramses.so: undefined symbol: c_get_MDL_no\n",
      "RAMSESWarning: RAMSES: Function c_get_MDL_names is listed in ramses.h but cannot be found in the library.\n",
      "/opt/tljh/user/lib/python3.7/site-packages/pyramses/libs/ramses.so: undefined symbol: c_get_MDL_names\n"
     ]
    }
   ],
   "source": [
    "ram = pyramses.sim()"
   ]
  },
  {
   "cell_type": "markdown",
   "id": "extraordinary-vancouver",
   "metadata": {},
   "source": [
    "Run the simulation (check https://pyramses.netlify.app/interface/simul.html):"
   ]
  },
  {
   "cell_type": "code",
   "execution_count": 4,
   "id": "bridal-frame",
   "metadata": {},
   "outputs": [
    {
     "name": "stdout",
     "output_type": "stream",
     "text": [
      "ERROR CALL FROM DCTL sim_minmaxvolt Voltages t =  163.1400         Voltage out of bounds at bus g6 :  0.49\n"
     ]
    }
   ],
   "source": [
    "try:\n",
    "    ram.execSim(case)\n",
    "except:\n",
    "    print(ram.getLastErr())   "
   ]
  },
  {
   "cell_type": "markdown",
   "id": "unexpected-reporter",
   "metadata": {},
   "source": [
    "Get the results and plot the voltage evolution (check https://pyramses.netlify.app/interface/extractor.html):"
   ]
  },
  {
   "cell_type": "code",
   "execution_count": 5,
   "id": "together-wallpaper",
   "metadata": {},
   "outputs": [],
   "source": [
    "ext = pyramses.extractor(case.getTrj())"
   ]
  },
  {
   "cell_type": "code",
   "execution_count": 6,
   "id": "informational-curtis",
   "metadata": {},
   "outputs": [
    {
     "data": {
      "image/png": "[encoded data removed]",
      "text/plain": [
       "<Figure size 432x288 with 1 Axes>"
      ]
     },
     "metadata": {
      "needs_background": "light"
     },
     "output_type": "display_data"
    }
   ],
   "source": [
    "ext.getBus('1041').mag.plot()"
   ]
  },
  {
   "cell_type": "code",
   "execution_count": null,
   "id": "stock-headset",
   "metadata": {},
   "outputs": [],
   "source": []
  }
 ],
 "metadata": {
  "kernelspec": {
   "display_name": "Python 3",
   "language": "python",
   "name": "python3"
  },
  "language_info": {
   "codemirror_mode": {
    "name": "ipython",
    "version": 3
   },
   "file_extension": ".py",
   "mimetype": "text/x-python",
   "name": "python",
   "nbconvert_exporter": "python",
   "pygments_lexer": "ipython3",
   "version": "3.7.3"
  }
 },
 "nbformat": 4,
 "nbformat_minor": 5
}
